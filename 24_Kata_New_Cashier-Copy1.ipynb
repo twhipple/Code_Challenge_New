{
 "cells": [
  {
   "cell_type": "markdown",
   "metadata": {},
   "source": [
    "# New Cashier"
   ]
  },
  {
   "cell_type": "raw",
   "metadata": {},
   "source": [
    "Some new cashiers started to work at your restaurant.\n",
    "\n",
    "They are good at taking orders, but they don't know how to capitalize words, or use a space bar!\n",
    "\n",
    "All the orders they create look something like this:\n",
    "\n",
    "\"milkshakepizzachickenfriescokeburgerpizzasandwichmilkshakepizza\"\n",
    "\n",
    "The kitchen staff are threatening to quit, because of how difficult it is to read the orders.\n",
    "\n",
    "Their preference is to get the orders as a nice clean string with spaces and capitals like so:\n",
    "\n",
    "\"Burger Fries Chicken Pizza Pizza Pizza Sandwich Milkshake Milkshake Coke\"\n",
    "\n",
    "The kitchen staff expect the items to be in the same order as they appear in the menu.\n",
    "\n",
    "The menu items are fairly simple, there is no overlap in the names of the items:"
   ]
  },
  {
   "cell_type": "raw",
   "metadata": {},
   "source": [
    "1. Burger\n",
    "2. Fries\n",
    "3. Chicken\n",
    "4. Pizza\n",
    "5. Sandwich\n",
    "6. Onionrings\n",
    "7. Milkshake\n",
    "8. Coke"
   ]
  },
  {
   "cell_type": "code",
   "execution_count": null,
   "metadata": {},
   "outputs": [],
   "source": [
    "Test.assert_equals(get_order(\"milkshakepizzachickenfriescokeburgerpizzasandwichmilkshakepizza\"),\n",
    "                    \"Burger Fries Chicken Pizza Pizza Pizza Sandwich Milkshake Milkshake Coke\")\n",
    "Test.assert_equals(get_order(\"pizzachickenfriesburgercokemilkshakefriessandwich\"),\n",
    "                    \"Burger Fries Fries Chicken Pizza Sandwich Milkshake Coke\")"
   ]
  },
  {
   "cell_type": "markdown",
   "metadata": {},
   "source": [
    "# My Code"
   ]
  },
  {
   "cell_type": "code",
   "execution_count": 1,
   "metadata": {},
   "outputs": [],
   "source": [
    "menu = {1. : 'Burger',\n",
    "        2. : 'Fries',\n",
    "        3. : 'Chicken',\n",
    "        4. : 'Pizza',\n",
    "        5. : 'Sandwich',\n",
    "        6. : 'Onionrings',\n",
    "        7. : 'Milkshake',\n",
    "        8. : 'Coke'}"
   ]
  },
  {
   "cell_type": "code",
   "execution_count": 6,
   "metadata": {},
   "outputs": [
    {
     "data": {
      "text/plain": [
       "dict_values(['Burger', 'Fries', 'Chicken', 'Pizza', 'Sandwich', 'Onionrings', 'Milkshake', 'Coke'])"
      ]
     },
     "execution_count": 6,
     "metadata": {},
     "output_type": "execute_result"
    }
   ],
   "source": [
    "menu.values()"
   ]
  },
  {
   "cell_type": "code",
   "execution_count": 7,
   "metadata": {},
   "outputs": [
    {
     "data": {
      "text/plain": [
       "'Burger'"
      ]
     },
     "execution_count": 7,
     "metadata": {},
     "output_type": "execute_result"
    }
   ],
   "source": [
    "menu[1]"
   ]
  },
  {
   "cell_type": "code",
   "execution_count": 8,
   "metadata": {},
   "outputs": [
    {
     "ename": "KeyError",
     "evalue": "'Burger'",
     "output_type": "error",
     "traceback": [
      "\u001b[0;31m---------------------------------------------------------------------------\u001b[0m",
      "\u001b[0;31mKeyError\u001b[0m                                  Traceback (most recent call last)",
      "\u001b[0;32m<ipython-input-8-3dacd2679f90>\u001b[0m in \u001b[0;36m<module>\u001b[0;34m\u001b[0m\n\u001b[0;32m----> 1\u001b[0;31m \u001b[0mmenu\u001b[0m\u001b[0;34m[\u001b[0m\u001b[0;34m'Burger'\u001b[0m\u001b[0;34m]\u001b[0m\u001b[0;34m\u001b[0m\u001b[0;34m\u001b[0m\u001b[0m\n\u001b[0m",
      "\u001b[0;31mKeyError\u001b[0m: 'Burger'"
     ]
    }
   ],
   "source": [
    "menu['Burger']"
   ]
  },
  {
   "cell_type": "code",
   "execution_count": 98,
   "metadata": {},
   "outputs": [],
   "source": [
    "menu_lower = {1. : 'burger',\n",
    "              2. : 'fries',\n",
    "              3. : 'chicken',\n",
    "              4. : 'pizza',\n",
    "              5. : 'sandwich',\n",
    "              6. : 'onionrings',\n",
    "              7. : 'milkshake',\n",
    "              8. : 'coke'}"
   ]
  },
  {
   "cell_type": "code",
   "execution_count": 94,
   "metadata": {},
   "outputs": [
    {
     "data": {
      "text/plain": [
       "dict_values(['burger', 'fries', 'chicken', 'pizza', 'sandwich', 'onionrings', 'milkshake', 'coke'])"
      ]
     },
     "execution_count": 94,
     "metadata": {},
     "output_type": "execute_result"
    }
   ],
   "source": [
    "menu_lower.values()"
   ]
  },
  {
   "cell_type": "code",
   "execution_count": 32,
   "metadata": {},
   "outputs": [],
   "source": [
    "order = \"milkshakeburgerpizzachickenpizza\""
   ]
  },
  {
   "cell_type": "code",
   "execution_count": 33,
   "metadata": {},
   "outputs": [],
   "source": [
    "order_list = [i for i in order]"
   ]
  },
  {
   "cell_type": "code",
   "execution_count": 34,
   "metadata": {},
   "outputs": [
    {
     "data": {
      "text/plain": [
       "['m',\n",
       " 'i',\n",
       " 'l',\n",
       " 'k',\n",
       " 's',\n",
       " 'h',\n",
       " 'a',\n",
       " 'k',\n",
       " 'e',\n",
       " 'b',\n",
       " 'u',\n",
       " 'r',\n",
       " 'g',\n",
       " 'e',\n",
       " 'r',\n",
       " 'p',\n",
       " 'i',\n",
       " 'z',\n",
       " 'z',\n",
       " 'a',\n",
       " 'c',\n",
       " 'h',\n",
       " 'i',\n",
       " 'c',\n",
       " 'k',\n",
       " 'e',\n",
       " 'n',\n",
       " 'p',\n",
       " 'i',\n",
       " 'z',\n",
       " 'z',\n",
       " 'a']"
      ]
     },
     "execution_count": 34,
     "metadata": {},
     "output_type": "execute_result"
    }
   ],
   "source": [
    "order_list"
   ]
  },
  {
   "cell_type": "code",
   "execution_count": 35,
   "metadata": {},
   "outputs": [
    {
     "data": {
      "text/plain": [
       "'m'"
      ]
     },
     "execution_count": 35,
     "metadata": {},
     "output_type": "execute_result"
    }
   ],
   "source": [
    "order_list[0]"
   ]
  },
  {
   "cell_type": "code",
   "execution_count": 36,
   "metadata": {},
   "outputs": [
    {
     "data": {
      "text/plain": [
       "range(0, 32)"
      ]
     },
     "execution_count": 36,
     "metadata": {},
     "output_type": "execute_result"
    }
   ],
   "source": [
    "range(len(order_list))"
   ]
  },
  {
   "cell_type": "code",
   "execution_count": 37,
   "metadata": {},
   "outputs": [
    {
     "data": {
      "text/plain": [
       "'milkshakeburgerpizzachickenpizza'"
      ]
     },
     "execution_count": 37,
     "metadata": {},
     "output_type": "execute_result"
    }
   ],
   "source": [
    "new_str = ''.join(order_list)\n",
    "new_str"
   ]
  },
  {
   "cell_type": "code",
   "execution_count": 38,
   "metadata": {},
   "outputs": [
    {
     "name": "stdout",
     "output_type": "stream",
     "text": [
      "m\n",
      "mi\n",
      "mil\n",
      "milk\n",
      "milks\n",
      "milksh\n",
      "milksha\n",
      "milkshak\n",
      "milkshake\n",
      "milkshakeb\n",
      "milkshakebu\n",
      "milkshakebur\n",
      "milkshakeburg\n",
      "milkshakeburge\n",
      "milkshakeburger\n",
      "milkshakeburgerp\n",
      "milkshakeburgerpi\n",
      "milkshakeburgerpiz\n",
      "milkshakeburgerpizz\n",
      "milkshakeburgerpizza\n",
      "milkshakeburgerpizzac\n",
      "milkshakeburgerpizzach\n",
      "milkshakeburgerpizzachi\n",
      "milkshakeburgerpizzachic\n",
      "milkshakeburgerpizzachick\n",
      "milkshakeburgerpizzachicke\n",
      "milkshakeburgerpizzachicken\n",
      "milkshakeburgerpizzachickenp\n",
      "milkshakeburgerpizzachickenpi\n",
      "milkshakeburgerpizzachickenpiz\n",
      "milkshakeburgerpizzachickenpizz\n",
      "milkshakeburgerpizzachickenpizza\n"
     ]
    },
    {
     "data": {
      "text/plain": [
       "'milkshakeburgerpizzachickenpizza'"
      ]
     },
     "execution_count": 38,
     "metadata": {},
     "output_type": "execute_result"
    }
   ],
   "source": [
    "new_str = ''\n",
    "for char in order:\n",
    "    new_str += ''.join(char)\n",
    "    print(new_str)\n",
    "new_str"
   ]
  },
  {
   "cell_type": "code",
   "execution_count": 102,
   "metadata": {},
   "outputs": [
    {
     "data": {
      "text/plain": [
       "8"
      ]
     },
     "execution_count": 102,
     "metadata": {},
     "output_type": "execute_result"
    }
   ],
   "source": [
    "len(menu_lower)"
   ]
  },
  {
   "cell_type": "code",
   "execution_count": 105,
   "metadata": {},
   "outputs": [
    {
     "data": {
      "text/plain": [
       "{}"
      ]
     },
     "execution_count": 105,
     "metadata": {},
     "output_type": "execute_result"
    }
   ],
   "source": [
    "new_str = ''\n",
    "new_menu = {}\n",
    "for char in order_list:\n",
    "    new_str += ''.join(char)\n",
    "    for i in (1, len(menu_lower)):\n",
    "        if new_str == menu_lower[i]:\n",
    "            new_menu[i] = new_str\n",
    "            print(new_str)\n",
    "            new_str = ''\n",
    "new_menu\n"
   ]
  },
  {
   "cell_type": "code",
   "execution_count": 106,
   "metadata": {},
   "outputs": [
    {
     "data": {
      "text/plain": [
       "{7: 'milkshake'}"
      ]
     },
     "execution_count": 106,
     "metadata": {},
     "output_type": "execute_result"
    }
   ],
   "source": [
    "new_str = ''\n",
    "new_menu = {}\n",
    "for char in order_list:\n",
    "    new_str += ''.join(char)\n",
    "    if new_str == menu_lower[7]:\n",
    "        new_menu[7] = new_str\n",
    "        new_str = ''\n",
    "new_menu"
   ]
  },
  {
   "cell_type": "code",
   "execution_count": 109,
   "metadata": {},
   "outputs": [
    {
     "ename": "TypeError",
     "evalue": "unhashable type: 'dict'",
     "output_type": "error",
     "traceback": [
      "\u001b[0;31m---------------------------------------------------------------------------\u001b[0m",
      "\u001b[0;31mTypeError\u001b[0m                                 Traceback (most recent call last)",
      "\u001b[0;32m<ipython-input-109-fd72d9bf8ae2>\u001b[0m in \u001b[0;36m<module>\u001b[0;34m\u001b[0m\n\u001b[1;32m      3\u001b[0m \u001b[0;32mfor\u001b[0m \u001b[0mchar\u001b[0m \u001b[0;32min\u001b[0m \u001b[0morder_list\u001b[0m\u001b[0;34m:\u001b[0m\u001b[0;34m\u001b[0m\u001b[0;34m\u001b[0m\u001b[0m\n\u001b[1;32m      4\u001b[0m     \u001b[0mnew_str\u001b[0m \u001b[0;34m+=\u001b[0m \u001b[0;34m''\u001b[0m\u001b[0;34m.\u001b[0m\u001b[0mjoin\u001b[0m\u001b[0;34m(\u001b[0m\u001b[0mchar\u001b[0m\u001b[0;34m)\u001b[0m\u001b[0;34m\u001b[0m\u001b[0;34m\u001b[0m\u001b[0m\n\u001b[0;32m----> 5\u001b[0;31m     \u001b[0;32mfor\u001b[0m \u001b[0mi\u001b[0m \u001b[0;32min\u001b[0m \u001b[0;34m(\u001b[0m\u001b[0;36m1\u001b[0m\u001b[0;34m,\u001b[0m \u001b[0mmenu_lower\u001b[0m\u001b[0;34m[\u001b[0m\u001b[0mi\u001b[0m\u001b[0;34m]\u001b[0m\u001b[0;34m)\u001b[0m\u001b[0;34m:\u001b[0m\u001b[0;34m\u001b[0m\u001b[0;34m\u001b[0m\u001b[0m\n\u001b[0m\u001b[1;32m      6\u001b[0m         \u001b[0;32mif\u001b[0m \u001b[0mnew_str\u001b[0m \u001b[0;34m==\u001b[0m \u001b[0mmenu_lower\u001b[0m\u001b[0;34m[\u001b[0m\u001b[0mi\u001b[0m\u001b[0;34m]\u001b[0m\u001b[0;34m:\u001b[0m\u001b[0;34m\u001b[0m\u001b[0;34m\u001b[0m\u001b[0m\n\u001b[1;32m      7\u001b[0m             \u001b[0mnew_menu\u001b[0m\u001b[0;34m[\u001b[0m\u001b[0mi\u001b[0m\u001b[0;34m]\u001b[0m \u001b[0;34m=\u001b[0m \u001b[0mnew_str\u001b[0m\u001b[0;34m\u001b[0m\u001b[0;34m\u001b[0m\u001b[0m\n",
      "\u001b[0;31mTypeError\u001b[0m: unhashable type: 'dict'"
     ]
    }
   ],
   "source": [
    "new_str = ''\n",
    "new_menu = {}\n",
    "for char in order_list:\n",
    "    new_str += ''.join(char)\n",
    "    for i in (1, menu_lower[i]):\n",
    "        if new_str == menu_lower[i]:\n",
    "            new_menu[i] = new_str\n",
    "            new_str = ''\n",
    "new_menu"
   ]
  },
  {
   "cell_type": "code",
   "execution_count": 110,
   "metadata": {},
   "outputs": [
    {
     "data": {
      "text/plain": [
       "{}"
      ]
     },
     "execution_count": 110,
     "metadata": {},
     "output_type": "execute_result"
    }
   ],
   "source": [
    "new_str = ''\n",
    "new_menu = {}\n",
    "for char in order_list:\n",
    "    new_str += ''.join(char)\n",
    "    if new_str == menu_lower.items():\n",
    "        new_menu[key] = new_str\n",
    "        new_str = ''\n",
    "new_menu"
   ]
  },
  {
   "cell_type": "code",
   "execution_count": 1,
   "metadata": {},
   "outputs": [],
   "source": [
    "menu_str = \"'burger', 'fries', 'chicken', 'pizza', 'sandwich', 'onionrings', 'milkshake', 'coke'\""
   ]
  },
  {
   "cell_type": "code",
   "execution_count": 2,
   "metadata": {},
   "outputs": [],
   "source": [
    "menu_list = ['burger', 'fries', 'chicken', 'pizza', 'sandwich', 'onionrings', 'milkshake', 'coke']"
   ]
  },
  {
   "cell_type": "code",
   "execution_count": 3,
   "metadata": {},
   "outputs": [],
   "source": [
    "menu_item = \"pizza\""
   ]
  },
  {
   "cell_type": "code",
   "execution_count": 4,
   "metadata": {},
   "outputs": [],
   "source": [
    "order_str = \"milkshakepizzachickenfriespizza\""
   ]
  },
  {
   "cell_type": "code",
   "execution_count": 5,
   "metadata": {},
   "outputs": [],
   "source": [
    "def check(string, sub_str): \n",
    "    if (string.find(sub_str) == -1): \n",
    "        print(\"NO\") \n",
    "    else: \n",
    "        print(\"YES\") "
   ]
  },
  {
   "cell_type": "code",
   "execution_count": 7,
   "metadata": {},
   "outputs": [
    {
     "name": "stdout",
     "output_type": "stream",
     "text": [
      "YES\n"
     ]
    }
   ],
   "source": [
    "check(order_str, menu_item)"
   ]
  },
  {
   "cell_type": "code",
   "execution_count": 9,
   "metadata": {},
   "outputs": [
    {
     "name": "stdout",
     "output_type": "stream",
     "text": [
      "YES,string 'pizza' is present in string 'milkshakepizzachickenfriespizza' \n"
     ]
    }
   ],
   "source": [
    "import re \n",
    "# re.search() returns a Match object if there is a match anywhere in the string \n",
    "if re.search(menu_item, order_str): \n",
    "    print(\"YES,string '{0}' is present in string '{1}' \" .format(menu_item, order_str )) "
   ]
  },
  {
   "cell_type": "code",
   "execution_count": 10,
   "metadata": {},
   "outputs": [
    {
     "name": "stdout",
     "output_type": "stream",
     "text": [
      "pizza\n"
     ]
    }
   ],
   "source": [
    "import re \n",
    "if re.search(menu_item, order_str):\n",
    "    print(menu_item)"
   ]
  },
  {
   "cell_type": "code",
   "execution_count": 11,
   "metadata": {},
   "outputs": [
    {
     "name": "stdout",
     "output_type": "stream",
     "text": [
      "fries\n",
      "chicken\n",
      "pizza\n",
      "milkshake\n"
     ]
    }
   ],
   "source": [
    "import re \n",
    "for item in menu_list:\n",
    "    if re.search(item, order_str):\n",
    "        print(item)"
   ]
  },
  {
   "cell_type": "code",
   "execution_count": 13,
   "metadata": {},
   "outputs": [
    {
     "name": "stdout",
     "output_type": "stream",
     "text": [
      "['Fries', 'Chicken', 'Pizza', 'Milkshake']\n"
     ]
    }
   ],
   "source": [
    "import re\n",
    "new_order = []\n",
    "for item in menu_list:\n",
    "    if re.search(item, order_str):\n",
    "        new_order.append(item.title())\n",
    "print(new_order)"
   ]
  },
  {
   "cell_type": "code",
   "execution_count": null,
   "metadata": {},
   "outputs": [],
   "source": [
    "import re\n",
    "new_order = []\n",
    "for item in menu_list:\n",
    "    if re.search(item, order_str):\n",
    "        new_order.append(item.title())\n",
    "print(new_order)"
   ]
  },
  {
   "cell_type": "code",
   "execution_count": 14,
   "metadata": {},
   "outputs": [
    {
     "data": {
      "text/plain": [
       "['Fries', 'Chicken', 'Pizza', 'Milkshake']"
      ]
     },
     "execution_count": 14,
     "metadata": {},
     "output_type": "execute_result"
    }
   ],
   "source": [
    "new_order"
   ]
  },
  {
   "cell_type": "code",
   "execution_count": 15,
   "metadata": {},
   "outputs": [
    {
     "data": {
      "text/plain": [
       "'Fries Chicken Pizza Milkshake'"
      ]
     },
     "execution_count": 15,
     "metadata": {},
     "output_type": "execute_result"
    }
   ],
   "source": [
    "final_order = ''\n",
    "for i in new_order:\n",
    "    final_order = \" \".join(new_order)\n",
    "final_order"
   ]
  },
  {
   "cell_type": "code",
   "execution_count": 16,
   "metadata": {},
   "outputs": [
    {
     "data": {
      "text/plain": [
       "'Fries Chicken Pizza Milkshake'"
      ]
     },
     "execution_count": 16,
     "metadata": {},
     "output_type": "execute_result"
    }
   ],
   "source": [
    "import re\n",
    "new_order = []\n",
    "for item in menu_list:\n",
    "    if re.search(item, order_str):\n",
    "        new_order.append(item.title())\n",
    "final_order = ''\n",
    "for i in new_order:\n",
    "    final_order = \" \".join(new_order)\n",
    "final_order"
   ]
  },
  {
   "cell_type": "code",
   "execution_count": 22,
   "metadata": {},
   "outputs": [
    {
     "data": {
      "text/plain": [
       "'Fries Chicken Pizza Milkshake'"
      ]
     },
     "execution_count": 22,
     "metadata": {},
     "output_type": "execute_result"
    }
   ],
   "source": [
    "import re\n",
    "final_order = ''\n",
    "for item in menu_list:\n",
    "    if re.search(item, order_str):\n",
    "        final_order += \"\".join(item.title() + ' ')\n",
    "final_order.strip()"
   ]
  },
  {
   "cell_type": "code",
   "execution_count": 23,
   "metadata": {},
   "outputs": [],
   "source": [
    "# Order is correct but I'm missing repeated items!\n",
    "import re\n",
    "def get_order(order_str):\n",
    "    menu_list = ['burger', 'fries', 'chicken', 'pizza', 'sandwich', 'onionrings', 'milkshake', 'coke']\n",
    "    final_order = ''\n",
    "    for item in menu_list:\n",
    "        if re.search(item, order_str):\n",
    "            final_order += \"\".join(item.title() + ' ')\n",
    "    return final_order.strip()"
   ]
  },
  {
   "cell_type": "code",
   "execution_count": 24,
   "metadata": {},
   "outputs": [
    {
     "data": {
      "text/plain": [
       "'Burger Fries Chicken Pizza Sandwich Milkshake Coke'"
      ]
     },
     "execution_count": 24,
     "metadata": {},
     "output_type": "execute_result"
    }
   ],
   "source": [
    "get_order(\"milkshakepizzachickenfriescokeburgerpizzasandwichmilkshakepizza\")\n",
    "# \"Burger Fries Chicken Pizza Pizza Pizza Sandwich Milkshake Milkshake Coke\""
   ]
  },
  {
   "cell_type": "code",
   "execution_count": null,
   "metadata": {},
   "outputs": [],
   "source": [
    "if (string.find(sub_str) == -1): \n",
    "        print(\"NO\") "
   ]
  },
  {
   "cell_type": "code",
   "execution_count": 26,
   "metadata": {},
   "outputs": [
    {
     "data": {
      "text/plain": [
       "True"
      ]
     },
     "execution_count": 26,
     "metadata": {},
     "output_type": "execute_result"
    }
   ],
   "source": [
    "menu_item.find(menu_str) == -1"
   ]
  },
  {
   "cell_type": "code",
   "execution_count": 41,
   "metadata": {},
   "outputs": [
    {
     "data": {
      "text/plain": [
       "'Fries Chicken Pizza Milkshake'"
      ]
     },
     "execution_count": 41,
     "metadata": {},
     "output_type": "execute_result"
    }
   ],
   "source": [
    "# Missing the final Pizza\n",
    "import re\n",
    "final_order = ''\n",
    "for item in menu_list:\n",
    "    if re.search(item, order_str):\n",
    "        final_order += \"\".join(item.title() + ' ')\n",
    "final_order.strip()"
   ]
  },
  {
   "cell_type": "code",
   "execution_count": 45,
   "metadata": {},
   "outputs": [
    {
     "name": "stdout",
     "output_type": "stream",
     "text": [
      "Milkshake Burger Pizza Chicken Pizza \n"
     ]
    }
   ],
   "source": [
    "# Finally gets the last Pizza\n",
    "new_str = ''\n",
    "final_order = ''\n",
    "for char in order:\n",
    "    new_str += ''.join(char)\n",
    "    for item in menu_list:\n",
    "        if re.search(item, new_str):\n",
    "            final_order += \"\".join(item.title() + ' ')\n",
    "            new_str = ''\n",
    "print(final_order)"
   ]
  },
  {
   "cell_type": "code",
   "execution_count": 51,
   "metadata": {},
   "outputs": [],
   "source": [
    "# Works but items are in the wrong order!\n",
    "import re\n",
    "def get_order(order_str):\n",
    "    menu_list = ['burger', 'fries', 'chicken', 'pizza', 'sandwich', 'onionrings', 'milkshake', 'coke']\n",
    "    new_str = ''\n",
    "    final_order = ''\n",
    "    for char in order_str:\n",
    "        new_str += ''.join(char)\n",
    "        for item in menu_list:\n",
    "            if re.search(item, new_str):\n",
    "                final_order += \"\".join(item.title() + ' ')\n",
    "                new_str = ''\n",
    "    return final_order.strip()"
   ]
  },
  {
   "cell_type": "code",
   "execution_count": 52,
   "metadata": {},
   "outputs": [
    {
     "data": {
      "text/plain": [
       "'Milkshake Pizza Chicken Fries Coke Burger Pizza Sandwich Milkshake Pizza'"
      ]
     },
     "execution_count": 52,
     "metadata": {},
     "output_type": "execute_result"
    }
   ],
   "source": [
    "get_order(\"milkshakepizzachickenfriescokeburgerpizzasandwichmilkshakepizza\")\n",
    "# \"Burger Fries Chicken Pizza Pizza Pizza Sandwich Milkshake Milkshake Coke\""
   ]
  },
  {
   "cell_type": "code",
   "execution_count": 115,
   "metadata": {},
   "outputs": [],
   "source": [
    "import re\n",
    "def get_order(order_str):\n",
    "    menu_list = ['burger', 'fries', 'chicken', 'pizza', 'sandwich', 'onionrings', 'milkshake', 'coke']\n",
    "    new_str = ''\n",
    "    total_order = ''\n",
    "    final_order = ''\n",
    "    for char in order_str:\n",
    "        new_str += ''.join(char)\n",
    "        for item in menu_list:\n",
    "            if re.search(item, new_str):\n",
    "                total_order += \"\".join(item + ' ')\n",
    "                new_str = ''\n",
    "    print(total_order)            \n",
    "    for food in menu_list:\n",
    "        if re.search(food, total_order):\n",
    "            final_order += (\"\".join(food).title() + ' ')\n",
    "    return final_order"
   ]
  },
  {
   "cell_type": "code",
   "execution_count": 116,
   "metadata": {},
   "outputs": [
    {
     "name": "stdout",
     "output_type": "stream",
     "text": [
      "milkshake pizza chicken fries coke burger pizza sandwich milkshake pizza \n"
     ]
    },
    {
     "data": {
      "text/plain": [
       "'Burger Fries Chicken Pizza Sandwich Milkshake Coke '"
      ]
     },
     "execution_count": 116,
     "metadata": {},
     "output_type": "execute_result"
    }
   ],
   "source": [
    "get_order(\"milkshakepizzachickenfriescokeburgerpizzasandwichmilkshakepizza\")\n",
    "# \"Burger Fries Chicken Pizza Pizza Pizza Sandwich Milkshake Milkshake Coke\""
   ]
  },
  {
   "cell_type": "code",
   "execution_count": 97,
   "metadata": {},
   "outputs": [],
   "source": [
    "import re\n",
    "def get_order(order_str):\n",
    "    menu_list = ['burger', 'fries', 'chicken', 'pizza', 'sandwich', 'onionrings', 'milkshake', 'coke']\n",
    "    new_str = ''\n",
    "    total_order = ''\n",
    "    for char in order_str:\n",
    "        new_str += ''.join(char)\n",
    "        for item in menu_list:\n",
    "            if re.search(item, new_str):\n",
    "                total_order += \"\".join(item.title()+ ' ')\n",
    "                new_str = ''\n",
    "    return total_order.strip()"
   ]
  },
  {
   "cell_type": "code",
   "execution_count": 98,
   "metadata": {},
   "outputs": [
    {
     "data": {
      "text/plain": [
       "'Milkshake Pizza Chicken Fries Coke Burger Pizza Sandwich Milkshake Pizza'"
      ]
     },
     "execution_count": 98,
     "metadata": {},
     "output_type": "execute_result"
    }
   ],
   "source": [
    "result = get_order(\"milkshakepizzachickenfriescokeburgerpizzasandwichmilkshakepizza\")\n",
    "result"
   ]
  },
  {
   "cell_type": "code",
   "execution_count": 105,
   "metadata": {},
   "outputs": [
    {
     "data": {
      "text/plain": [
       "['Milkshake',\n",
       " 'Pizza',\n",
       " 'Chicken',\n",
       " 'Fries',\n",
       " 'Coke',\n",
       " 'Burger',\n",
       " 'Pizza',\n",
       " 'Sandwich',\n",
       " 'Milkshake',\n",
       " 'Pizza']"
      ]
     },
     "execution_count": 105,
     "metadata": {},
     "output_type": "execute_result"
    }
   ],
   "source": [
    "food_list = result.split()\n",
    "food_list"
   ]
  },
  {
   "cell_type": "code",
   "execution_count": 107,
   "metadata": {},
   "outputs": [
    {
     "data": {
      "text/plain": [
       "['burger',\n",
       " 'fries',\n",
       " 'chicken',\n",
       " 'pizza',\n",
       " 'sandwich',\n",
       " 'onionrings',\n",
       " 'milkshake',\n",
       " 'coke']"
      ]
     },
     "execution_count": 107,
     "metadata": {},
     "output_type": "execute_result"
    }
   ],
   "source": [
    "menu_list"
   ]
  },
  {
   "cell_type": "code",
   "execution_count": 109,
   "metadata": {},
   "outputs": [],
   "source": [
    "import re\n",
    "def get_order(order_str):\n",
    "    menu_list = ['burger', 'fries', 'chicken', 'pizza', 'sandwich', 'onionrings', 'milkshake', 'coke']\n",
    "    new_str = ''\n",
    "    total_order = ''\n",
    "    for char in order_str:\n",
    "        new_str += ''.join(char)\n",
    "        for item in menu_list:\n",
    "            if re.search(item, new_str):\n",
    "                total_order += \"\".join(item + ' ')\n",
    "                new_str = ''\n",
    "    return total_order.strip()"
   ]
  },
  {
   "cell_type": "code",
   "execution_count": 111,
   "metadata": {},
   "outputs": [
    {
     "data": {
      "text/plain": [
       "'milkshake pizza chicken fries coke burger pizza sandwich milkshake pizza'"
      ]
     },
     "execution_count": 111,
     "metadata": {},
     "output_type": "execute_result"
    }
   ],
   "source": [
    "result = get_order(\"milkshakepizzachickenfriescokeburgerpizzasandwichmilkshakepizza\")\n",
    "result"
   ]
  },
  {
   "cell_type": "code",
   "execution_count": 122,
   "metadata": {},
   "outputs": [
    {
     "data": {
      "text/plain": [
       "'Burger Fries Chicken Pizza Sandwich Milkshake Coke '"
      ]
     },
     "execution_count": 122,
     "metadata": {},
     "output_type": "execute_result"
    }
   ],
   "source": [
    "final_order = ''\n",
    "for food in menu_list:\n",
    "    if re.search(food, result):\n",
    "        final_order += (\"\".join(food).title() + ' ')\n",
    "final_order\n",
    "# \"Burger Fries Chicken Pizza Pizza Pizza Sandwich Milkshake Milkshake Coke\""
   ]
  },
  {
   "cell_type": "code",
   "execution_count": null,
   "metadata": {},
   "outputs": [],
   "source": []
  },
  {
   "cell_type": "code",
   "execution_count": 79,
   "metadata": {},
   "outputs": [
    {
     "data": {
      "text/plain": [
       "str"
      ]
     },
     "execution_count": 79,
     "metadata": {},
     "output_type": "execute_result"
    }
   ],
   "source": [
    "type(result)"
   ]
  },
  {
   "cell_type": "code",
   "execution_count": 117,
   "metadata": {},
   "outputs": [],
   "source": [
    "import re\n",
    "def get_order(order_str):\n",
    "    menu_list = ['burger', 'fries', 'chicken', 'pizza', 'sandwich', 'onionrings', 'milkshake', 'coke']\n",
    "    new_str = ''\n",
    "    total_order = []\n",
    "    final_order = ''\n",
    "    for char in order_str:\n",
    "        new_str += ''.join(char)\n",
    "        for item in menu_list:\n",
    "            if re.search(item, new_str):\n",
    "                total_order += \"\".join(item.title())\n",
    "                new_str = ''\n",
    "        print(total_order)            \n",
    "    for food in menu_list:\n",
    "        if re.search(food, total_order):\n",
    "            final_order += (\"\".join(food).title() + ' ')\n",
    "    return final_order"
   ]
  },
  {
   "cell_type": "code",
   "execution_count": 118,
   "metadata": {},
   "outputs": [
    {
     "name": "stdout",
     "output_type": "stream",
     "text": [
      "[]\n",
      "[]\n",
      "[]\n",
      "[]\n",
      "[]\n",
      "[]\n",
      "[]\n",
      "[]\n",
      "['m', 'i', 'l', 'k', 's', 'h', 'a', 'k', 'e']\n",
      "['m', 'i', 'l', 'k', 's', 'h', 'a', 'k', 'e']\n",
      "['m', 'i', 'l', 'k', 's', 'h', 'a', 'k', 'e']\n",
      "['m', 'i', 'l', 'k', 's', 'h', 'a', 'k', 'e']\n",
      "['m', 'i', 'l', 'k', 's', 'h', 'a', 'k', 'e']\n",
      "['m', 'i', 'l', 'k', 's', 'h', 'a', 'k', 'e', 'p', 'i', 'z', 'z', 'a']\n",
      "['m', 'i', 'l', 'k', 's', 'h', 'a', 'k', 'e', 'p', 'i', 'z', 'z', 'a']\n",
      "['m', 'i', 'l', 'k', 's', 'h', 'a', 'k', 'e', 'p', 'i', 'z', 'z', 'a']\n",
      "['m', 'i', 'l', 'k', 's', 'h', 'a', 'k', 'e', 'p', 'i', 'z', 'z', 'a']\n",
      "['m', 'i', 'l', 'k', 's', 'h', 'a', 'k', 'e', 'p', 'i', 'z', 'z', 'a']\n",
      "['m', 'i', 'l', 'k', 's', 'h', 'a', 'k', 'e', 'p', 'i', 'z', 'z', 'a']\n",
      "['m', 'i', 'l', 'k', 's', 'h', 'a', 'k', 'e', 'p', 'i', 'z', 'z', 'a']\n",
      "['m', 'i', 'l', 'k', 's', 'h', 'a', 'k', 'e', 'p', 'i', 'z', 'z', 'a', 'c', 'h', 'i', 'c', 'k', 'e', 'n']\n",
      "['m', 'i', 'l', 'k', 's', 'h', 'a', 'k', 'e', 'p', 'i', 'z', 'z', 'a', 'c', 'h', 'i', 'c', 'k', 'e', 'n']\n",
      "['m', 'i', 'l', 'k', 's', 'h', 'a', 'k', 'e', 'p', 'i', 'z', 'z', 'a', 'c', 'h', 'i', 'c', 'k', 'e', 'n']\n",
      "['m', 'i', 'l', 'k', 's', 'h', 'a', 'k', 'e', 'p', 'i', 'z', 'z', 'a', 'c', 'h', 'i', 'c', 'k', 'e', 'n']\n",
      "['m', 'i', 'l', 'k', 's', 'h', 'a', 'k', 'e', 'p', 'i', 'z', 'z', 'a', 'c', 'h', 'i', 'c', 'k', 'e', 'n']\n",
      "['m', 'i', 'l', 'k', 's', 'h', 'a', 'k', 'e', 'p', 'i', 'z', 'z', 'a', 'c', 'h', 'i', 'c', 'k', 'e', 'n', 'f', 'r', 'i', 'e', 's']\n",
      "['m', 'i', 'l', 'k', 's', 'h', 'a', 'k', 'e', 'p', 'i', 'z', 'z', 'a', 'c', 'h', 'i', 'c', 'k', 'e', 'n', 'f', 'r', 'i', 'e', 's']\n",
      "['m', 'i', 'l', 'k', 's', 'h', 'a', 'k', 'e', 'p', 'i', 'z', 'z', 'a', 'c', 'h', 'i', 'c', 'k', 'e', 'n', 'f', 'r', 'i', 'e', 's']\n",
      "['m', 'i', 'l', 'k', 's', 'h', 'a', 'k', 'e', 'p', 'i', 'z', 'z', 'a', 'c', 'h', 'i', 'c', 'k', 'e', 'n', 'f', 'r', 'i', 'e', 's']\n",
      "['m', 'i', 'l', 'k', 's', 'h', 'a', 'k', 'e', 'p', 'i', 'z', 'z', 'a', 'c', 'h', 'i', 'c', 'k', 'e', 'n', 'f', 'r', 'i', 'e', 's', 'c', 'o', 'k', 'e']\n",
      "['m', 'i', 'l', 'k', 's', 'h', 'a', 'k', 'e', 'p', 'i', 'z', 'z', 'a', 'c', 'h', 'i', 'c', 'k', 'e', 'n', 'f', 'r', 'i', 'e', 's', 'c', 'o', 'k', 'e']\n",
      "['m', 'i', 'l', 'k', 's', 'h', 'a', 'k', 'e', 'p', 'i', 'z', 'z', 'a', 'c', 'h', 'i', 'c', 'k', 'e', 'n', 'f', 'r', 'i', 'e', 's', 'c', 'o', 'k', 'e']\n",
      "['m', 'i', 'l', 'k', 's', 'h', 'a', 'k', 'e', 'p', 'i', 'z', 'z', 'a', 'c', 'h', 'i', 'c', 'k', 'e', 'n', 'f', 'r', 'i', 'e', 's', 'c', 'o', 'k', 'e']\n",
      "['m', 'i', 'l', 'k', 's', 'h', 'a', 'k', 'e', 'p', 'i', 'z', 'z', 'a', 'c', 'h', 'i', 'c', 'k', 'e', 'n', 'f', 'r', 'i', 'e', 's', 'c', 'o', 'k', 'e']\n",
      "['m', 'i', 'l', 'k', 's', 'h', 'a', 'k', 'e', 'p', 'i', 'z', 'z', 'a', 'c', 'h', 'i', 'c', 'k', 'e', 'n', 'f', 'r', 'i', 'e', 's', 'c', 'o', 'k', 'e']\n",
      "['m', 'i', 'l', 'k', 's', 'h', 'a', 'k', 'e', 'p', 'i', 'z', 'z', 'a', 'c', 'h', 'i', 'c', 'k', 'e', 'n', 'f', 'r', 'i', 'e', 's', 'c', 'o', 'k', 'e', 'b', 'u', 'r', 'g', 'e', 'r']\n",
      "['m', 'i', 'l', 'k', 's', 'h', 'a', 'k', 'e', 'p', 'i', 'z', 'z', 'a', 'c', 'h', 'i', 'c', 'k', 'e', 'n', 'f', 'r', 'i', 'e', 's', 'c', 'o', 'k', 'e', 'b', 'u', 'r', 'g', 'e', 'r']\n",
      "['m', 'i', 'l', 'k', 's', 'h', 'a', 'k', 'e', 'p', 'i', 'z', 'z', 'a', 'c', 'h', 'i', 'c', 'k', 'e', 'n', 'f', 'r', 'i', 'e', 's', 'c', 'o', 'k', 'e', 'b', 'u', 'r', 'g', 'e', 'r']\n",
      "['m', 'i', 'l', 'k', 's', 'h', 'a', 'k', 'e', 'p', 'i', 'z', 'z', 'a', 'c', 'h', 'i', 'c', 'k', 'e', 'n', 'f', 'r', 'i', 'e', 's', 'c', 'o', 'k', 'e', 'b', 'u', 'r', 'g', 'e', 'r']\n",
      "['m', 'i', 'l', 'k', 's', 'h', 'a', 'k', 'e', 'p', 'i', 'z', 'z', 'a', 'c', 'h', 'i', 'c', 'k', 'e', 'n', 'f', 'r', 'i', 'e', 's', 'c', 'o', 'k', 'e', 'b', 'u', 'r', 'g', 'e', 'r']\n",
      "['m', 'i', 'l', 'k', 's', 'h', 'a', 'k', 'e', 'p', 'i', 'z', 'z', 'a', 'c', 'h', 'i', 'c', 'k', 'e', 'n', 'f', 'r', 'i', 'e', 's', 'c', 'o', 'k', 'e', 'b', 'u', 'r', 'g', 'e', 'r', 'p', 'i', 'z', 'z', 'a']\n",
      "['m', 'i', 'l', 'k', 's', 'h', 'a', 'k', 'e', 'p', 'i', 'z', 'z', 'a', 'c', 'h', 'i', 'c', 'k', 'e', 'n', 'f', 'r', 'i', 'e', 's', 'c', 'o', 'k', 'e', 'b', 'u', 'r', 'g', 'e', 'r', 'p', 'i', 'z', 'z', 'a']\n",
      "['m', 'i', 'l', 'k', 's', 'h', 'a', 'k', 'e', 'p', 'i', 'z', 'z', 'a', 'c', 'h', 'i', 'c', 'k', 'e', 'n', 'f', 'r', 'i', 'e', 's', 'c', 'o', 'k', 'e', 'b', 'u', 'r', 'g', 'e', 'r', 'p', 'i', 'z', 'z', 'a']\n",
      "['m', 'i', 'l', 'k', 's', 'h', 'a', 'k', 'e', 'p', 'i', 'z', 'z', 'a', 'c', 'h', 'i', 'c', 'k', 'e', 'n', 'f', 'r', 'i', 'e', 's', 'c', 'o', 'k', 'e', 'b', 'u', 'r', 'g', 'e', 'r', 'p', 'i', 'z', 'z', 'a']\n",
      "['m', 'i', 'l', 'k', 's', 'h', 'a', 'k', 'e', 'p', 'i', 'z', 'z', 'a', 'c', 'h', 'i', 'c', 'k', 'e', 'n', 'f', 'r', 'i', 'e', 's', 'c', 'o', 'k', 'e', 'b', 'u', 'r', 'g', 'e', 'r', 'p', 'i', 'z', 'z', 'a']\n",
      "['m', 'i', 'l', 'k', 's', 'h', 'a', 'k', 'e', 'p', 'i', 'z', 'z', 'a', 'c', 'h', 'i', 'c', 'k', 'e', 'n', 'f', 'r', 'i', 'e', 's', 'c', 'o', 'k', 'e', 'b', 'u', 'r', 'g', 'e', 'r', 'p', 'i', 'z', 'z', 'a']\n",
      "['m', 'i', 'l', 'k', 's', 'h', 'a', 'k', 'e', 'p', 'i', 'z', 'z', 'a', 'c', 'h', 'i', 'c', 'k', 'e', 'n', 'f', 'r', 'i', 'e', 's', 'c', 'o', 'k', 'e', 'b', 'u', 'r', 'g', 'e', 'r', 'p', 'i', 'z', 'z', 'a']\n",
      "['m', 'i', 'l', 'k', 's', 'h', 'a', 'k', 'e', 'p', 'i', 'z', 'z', 'a', 'c', 'h', 'i', 'c', 'k', 'e', 'n', 'f', 'r', 'i', 'e', 's', 'c', 'o', 'k', 'e', 'b', 'u', 'r', 'g', 'e', 'r', 'p', 'i', 'z', 'z', 'a']\n",
      "['m', 'i', 'l', 'k', 's', 'h', 'a', 'k', 'e', 'p', 'i', 'z', 'z', 'a', 'c', 'h', 'i', 'c', 'k', 'e', 'n', 'f', 'r', 'i', 'e', 's', 'c', 'o', 'k', 'e', 'b', 'u', 'r', 'g', 'e', 'r', 'p', 'i', 'z', 'z', 'a', 's', 'a', 'n', 'd', 'w', 'i', 'c', 'h']\n",
      "['m', 'i', 'l', 'k', 's', 'h', 'a', 'k', 'e', 'p', 'i', 'z', 'z', 'a', 'c', 'h', 'i', 'c', 'k', 'e', 'n', 'f', 'r', 'i', 'e', 's', 'c', 'o', 'k', 'e', 'b', 'u', 'r', 'g', 'e', 'r', 'p', 'i', 'z', 'z', 'a', 's', 'a', 'n', 'd', 'w', 'i', 'c', 'h']\n",
      "['m', 'i', 'l', 'k', 's', 'h', 'a', 'k', 'e', 'p', 'i', 'z', 'z', 'a', 'c', 'h', 'i', 'c', 'k', 'e', 'n', 'f', 'r', 'i', 'e', 's', 'c', 'o', 'k', 'e', 'b', 'u', 'r', 'g', 'e', 'r', 'p', 'i', 'z', 'z', 'a', 's', 'a', 'n', 'd', 'w', 'i', 'c', 'h']\n",
      "['m', 'i', 'l', 'k', 's', 'h', 'a', 'k', 'e', 'p', 'i', 'z', 'z', 'a', 'c', 'h', 'i', 'c', 'k', 'e', 'n', 'f', 'r', 'i', 'e', 's', 'c', 'o', 'k', 'e', 'b', 'u', 'r', 'g', 'e', 'r', 'p', 'i', 'z', 'z', 'a', 's', 'a', 'n', 'd', 'w', 'i', 'c', 'h']\n",
      "['m', 'i', 'l', 'k', 's', 'h', 'a', 'k', 'e', 'p', 'i', 'z', 'z', 'a', 'c', 'h', 'i', 'c', 'k', 'e', 'n', 'f', 'r', 'i', 'e', 's', 'c', 'o', 'k', 'e', 'b', 'u', 'r', 'g', 'e', 'r', 'p', 'i', 'z', 'z', 'a', 's', 'a', 'n', 'd', 'w', 'i', 'c', 'h']\n",
      "['m', 'i', 'l', 'k', 's', 'h', 'a', 'k', 'e', 'p', 'i', 'z', 'z', 'a', 'c', 'h', 'i', 'c', 'k', 'e', 'n', 'f', 'r', 'i', 'e', 's', 'c', 'o', 'k', 'e', 'b', 'u', 'r', 'g', 'e', 'r', 'p', 'i', 'z', 'z', 'a', 's', 'a', 'n', 'd', 'w', 'i', 'c', 'h']\n",
      "['m', 'i', 'l', 'k', 's', 'h', 'a', 'k', 'e', 'p', 'i', 'z', 'z', 'a', 'c', 'h', 'i', 'c', 'k', 'e', 'n', 'f', 'r', 'i', 'e', 's', 'c', 'o', 'k', 'e', 'b', 'u', 'r', 'g', 'e', 'r', 'p', 'i', 'z', 'z', 'a', 's', 'a', 'n', 'd', 'w', 'i', 'c', 'h']\n",
      "['m', 'i', 'l', 'k', 's', 'h', 'a', 'k', 'e', 'p', 'i', 'z', 'z', 'a', 'c', 'h', 'i', 'c', 'k', 'e', 'n', 'f', 'r', 'i', 'e', 's', 'c', 'o', 'k', 'e', 'b', 'u', 'r', 'g', 'e', 'r', 'p', 'i', 'z', 'z', 'a', 's', 'a', 'n', 'd', 'w', 'i', 'c', 'h']\n",
      "['m', 'i', 'l', 'k', 's', 'h', 'a', 'k', 'e', 'p', 'i', 'z', 'z', 'a', 'c', 'h', 'i', 'c', 'k', 'e', 'n', 'f', 'r', 'i', 'e', 's', 'c', 'o', 'k', 'e', 'b', 'u', 'r', 'g', 'e', 'r', 'p', 'i', 'z', 'z', 'a', 's', 'a', 'n', 'd', 'w', 'i', 'c', 'h']\n",
      "['m', 'i', 'l', 'k', 's', 'h', 'a', 'k', 'e', 'p', 'i', 'z', 'z', 'a', 'c', 'h', 'i', 'c', 'k', 'e', 'n', 'f', 'r', 'i', 'e', 's', 'c', 'o', 'k', 'e', 'b', 'u', 'r', 'g', 'e', 'r', 'p', 'i', 'z', 'z', 'a', 's', 'a', 'n', 'd', 'w', 'i', 'c', 'h', 'm', 'i', 'l', 'k', 's', 'h', 'a', 'k', 'e']\n",
      "['m', 'i', 'l', 'k', 's', 'h', 'a', 'k', 'e', 'p', 'i', 'z', 'z', 'a', 'c', 'h', 'i', 'c', 'k', 'e', 'n', 'f', 'r', 'i', 'e', 's', 'c', 'o', 'k', 'e', 'b', 'u', 'r', 'g', 'e', 'r', 'p', 'i', 'z', 'z', 'a', 's', 'a', 'n', 'd', 'w', 'i', 'c', 'h', 'm', 'i', 'l', 'k', 's', 'h', 'a', 'k', 'e']\n",
      "['m', 'i', 'l', 'k', 's', 'h', 'a', 'k', 'e', 'p', 'i', 'z', 'z', 'a', 'c', 'h', 'i', 'c', 'k', 'e', 'n', 'f', 'r', 'i', 'e', 's', 'c', 'o', 'k', 'e', 'b', 'u', 'r', 'g', 'e', 'r', 'p', 'i', 'z', 'z', 'a', 's', 'a', 'n', 'd', 'w', 'i', 'c', 'h', 'm', 'i', 'l', 'k', 's', 'h', 'a', 'k', 'e']\n",
      "['m', 'i', 'l', 'k', 's', 'h', 'a', 'k', 'e', 'p', 'i', 'z', 'z', 'a', 'c', 'h', 'i', 'c', 'k', 'e', 'n', 'f', 'r', 'i', 'e', 's', 'c', 'o', 'k', 'e', 'b', 'u', 'r', 'g', 'e', 'r', 'p', 'i', 'z', 'z', 'a', 's', 'a', 'n', 'd', 'w', 'i', 'c', 'h', 'm', 'i', 'l', 'k', 's', 'h', 'a', 'k', 'e']\n",
      "['m', 'i', 'l', 'k', 's', 'h', 'a', 'k', 'e', 'p', 'i', 'z', 'z', 'a', 'c', 'h', 'i', 'c', 'k', 'e', 'n', 'f', 'r', 'i', 'e', 's', 'c', 'o', 'k', 'e', 'b', 'u', 'r', 'g', 'e', 'r', 'p', 'i', 'z', 'z', 'a', 's', 'a', 'n', 'd', 'w', 'i', 'c', 'h', 'm', 'i', 'l', 'k', 's', 'h', 'a', 'k', 'e']\n",
      "['m', 'i', 'l', 'k', 's', 'h', 'a', 'k', 'e', 'p', 'i', 'z', 'z', 'a', 'c', 'h', 'i', 'c', 'k', 'e', 'n', 'f', 'r', 'i', 'e', 's', 'c', 'o', 'k', 'e', 'b', 'u', 'r', 'g', 'e', 'r', 'p', 'i', 'z', 'z', 'a', 's', 'a', 'n', 'd', 'w', 'i', 'c', 'h', 'm', 'i', 'l', 'k', 's', 'h', 'a', 'k', 'e', 'p', 'i', 'z', 'z', 'a']\n"
     ]
    },
    {
     "ename": "TypeError",
     "evalue": "expected string or bytes-like object",
     "output_type": "error",
     "traceback": [
      "\u001b[0;31m---------------------------------------------------------------------------\u001b[0m",
      "\u001b[0;31mTypeError\u001b[0m                                 Traceback (most recent call last)",
      "\u001b[0;32m<ipython-input-118-ef1020115205>\u001b[0m in \u001b[0;36m<module>\u001b[0;34m\u001b[0m\n\u001b[0;32m----> 1\u001b[0;31m \u001b[0mget_order\u001b[0m\u001b[0;34m(\u001b[0m\u001b[0;34m\"milkshakepizzachickenfriescokeburgerpizzasandwichmilkshakepizza\"\u001b[0m\u001b[0;34m)\u001b[0m\u001b[0;34m\u001b[0m\u001b[0;34m\u001b[0m\u001b[0m\n\u001b[0m\u001b[1;32m      2\u001b[0m \u001b[0;31m# \"Burger Fries Chicken Pizza Pizza Pizza Sandwich Milkshake Milkshake Coke\"\u001b[0m\u001b[0;34m\u001b[0m\u001b[0;34m\u001b[0m\u001b[0;34m\u001b[0m\u001b[0m\n",
      "\u001b[0;32m<ipython-input-117-2ba1e9444847>\u001b[0m in \u001b[0;36mget_order\u001b[0;34m(order_str)\u001b[0m\n\u001b[1;32m     13\u001b[0m         \u001b[0mprint\u001b[0m\u001b[0;34m(\u001b[0m\u001b[0mtotal_order\u001b[0m\u001b[0;34m)\u001b[0m\u001b[0;34m\u001b[0m\u001b[0;34m\u001b[0m\u001b[0m\n\u001b[1;32m     14\u001b[0m     \u001b[0;32mfor\u001b[0m \u001b[0mfood\u001b[0m \u001b[0;32min\u001b[0m \u001b[0mmenu_list\u001b[0m\u001b[0;34m:\u001b[0m\u001b[0;34m\u001b[0m\u001b[0;34m\u001b[0m\u001b[0m\n\u001b[0;32m---> 15\u001b[0;31m         \u001b[0;32mif\u001b[0m \u001b[0mre\u001b[0m\u001b[0;34m.\u001b[0m\u001b[0msearch\u001b[0m\u001b[0;34m(\u001b[0m\u001b[0mfood\u001b[0m\u001b[0;34m,\u001b[0m \u001b[0mtotal_order\u001b[0m\u001b[0;34m)\u001b[0m\u001b[0;34m:\u001b[0m\u001b[0;34m\u001b[0m\u001b[0;34m\u001b[0m\u001b[0m\n\u001b[0m\u001b[1;32m     16\u001b[0m             \u001b[0mfinal_order\u001b[0m \u001b[0;34m+=\u001b[0m \u001b[0;34m(\u001b[0m\u001b[0;34m\"\"\u001b[0m\u001b[0;34m.\u001b[0m\u001b[0mjoin\u001b[0m\u001b[0;34m(\u001b[0m\u001b[0mfood\u001b[0m\u001b[0;34m)\u001b[0m\u001b[0;34m.\u001b[0m\u001b[0mtitle\u001b[0m\u001b[0;34m(\u001b[0m\u001b[0;34m)\u001b[0m \u001b[0;34m+\u001b[0m \u001b[0;34m' '\u001b[0m\u001b[0;34m)\u001b[0m\u001b[0;34m\u001b[0m\u001b[0;34m\u001b[0m\u001b[0m\n\u001b[1;32m     17\u001b[0m     \u001b[0;32mreturn\u001b[0m \u001b[0mfinal_order\u001b[0m\u001b[0;34m\u001b[0m\u001b[0;34m\u001b[0m\u001b[0m\n",
      "\u001b[0;32m~/opt/anaconda3/envs/learn-env/lib/python3.6/re.py\u001b[0m in \u001b[0;36msearch\u001b[0;34m(pattern, string, flags)\u001b[0m\n\u001b[1;32m    180\u001b[0m     \"\"\"Scan through string looking for a match to the pattern, returning\n\u001b[1;32m    181\u001b[0m     a match object, or None if no match was found.\"\"\"\n\u001b[0;32m--> 182\u001b[0;31m     \u001b[0;32mreturn\u001b[0m \u001b[0m_compile\u001b[0m\u001b[0;34m(\u001b[0m\u001b[0mpattern\u001b[0m\u001b[0;34m,\u001b[0m \u001b[0mflags\u001b[0m\u001b[0;34m)\u001b[0m\u001b[0;34m.\u001b[0m\u001b[0msearch\u001b[0m\u001b[0;34m(\u001b[0m\u001b[0mstring\u001b[0m\u001b[0;34m)\u001b[0m\u001b[0;34m\u001b[0m\u001b[0;34m\u001b[0m\u001b[0m\n\u001b[0m\u001b[1;32m    183\u001b[0m \u001b[0;34m\u001b[0m\u001b[0m\n\u001b[1;32m    184\u001b[0m \u001b[0;32mdef\u001b[0m \u001b[0msub\u001b[0m\u001b[0;34m(\u001b[0m\u001b[0mpattern\u001b[0m\u001b[0;34m,\u001b[0m \u001b[0mrepl\u001b[0m\u001b[0;34m,\u001b[0m \u001b[0mstring\u001b[0m\u001b[0;34m,\u001b[0m \u001b[0mcount\u001b[0m\u001b[0;34m=\u001b[0m\u001b[0;36m0\u001b[0m\u001b[0;34m,\u001b[0m \u001b[0mflags\u001b[0m\u001b[0;34m=\u001b[0m\u001b[0;36m0\u001b[0m\u001b[0;34m)\u001b[0m\u001b[0;34m:\u001b[0m\u001b[0;34m\u001b[0m\u001b[0;34m\u001b[0m\u001b[0m\n",
      "\u001b[0;31mTypeError\u001b[0m: expected string or bytes-like object"
     ]
    }
   ],
   "source": [
    "get_order(\"milkshakepizzachickenfriescokeburgerpizzasandwichmilkshakepizza\")\n",
    "# \"Burger Fries Chicken Pizza Pizza Pizza Sandwich Milkshake Milkshake Coke\""
   ]
  },
  {
   "cell_type": "code",
   "execution_count": null,
   "metadata": {},
   "outputs": [],
   "source": []
  },
  {
   "cell_type": "markdown",
   "metadata": {},
   "source": [
    "# Solutions"
   ]
  }
 ],
 "metadata": {
  "kernelspec": {
   "display_name": "learn-env",
   "language": "python",
   "name": "learn-env"
  },
  "language_info": {
   "codemirror_mode": {
    "name": "ipython",
    "version": 3
   },
   "file_extension": ".py",
   "mimetype": "text/x-python",
   "name": "python",
   "nbconvert_exporter": "python",
   "pygments_lexer": "ipython3",
   "version": "3.6.9"
  },
  "toc": {
   "base_numbering": 1,
   "nav_menu": {},
   "number_sections": true,
   "sideBar": true,
   "skip_h1_title": false,
   "title_cell": "Table of Contents",
   "title_sidebar": "Contents",
   "toc_cell": false,
   "toc_position": {},
   "toc_section_display": true,
   "toc_window_display": false
  }
 },
 "nbformat": 4,
 "nbformat_minor": 4
}
